{
 "cells": [
  {
   "attachments": {},
   "cell_type": "markdown",
   "metadata": {},
   "source": [
    "# Time to complete Voluntary Exit\n",
    "\n",
    "- Suppose that some validators request Voluntary Exit simultaneously at an epoch. We calculate the time it takes for the Exit queue to be cleared.\n",
    "- This Jupyter notebook only considers Exit, not Withdrawal. Withdrawals are going to processed according to the method implemented in the Shanghai/Capella upgrade.\n",
    "- The method regarding Exit has stayed the same since the Altair upgrade."
   ]
  },
  {
   "cell_type": "code",
   "execution_count": null,
   "metadata": {},
   "outputs": [],
   "source": [
    "\n",
    "MIN_PER_EPOCH_CHURN_LIMIT = 2**2\n",
    "CHURN_LIMIT_QUOTIENT = 2**16\n",
    "\n",
    "current_staked_eth = 16146487.1068024281441391 # https://etherscan.io/address/0x00000000219ab540356cbb839cbe05303d7705fa\n",
    "#current_staked_eth = 8388608\n",
    "\n",
    "current_number_of_validators = current_staked_eth // 32\n",
    "current_number_of_exiting_validators = current_number_of_validators // 3\n"
   ]
  },
  {
   "cell_type": "code",
   "execution_count": null,
   "metadata": {},
   "outputs": [],
   "source": [
    "\n",
    "def get_validator_churn_limit(number_of_validators) -> int:\n",
    "    \"\"\"\n",
    "    Return the validator churn limit for the current epoch.\n",
    "    \"\"\"\n",
    "    return max(MIN_PER_EPOCH_CHURN_LIMIT, number_of_validators // CHURN_LIMIT_QUOTIENT)\n",
    "\n",
    "def get_time_to_complete_exit(current_number_of_exiting_validators, current_number_of_validators) -> int:\n",
    "    \"\"\"\n",
    "    Return the time to complete Voluntary Exit.\n",
    "    \"\"\"\n",
    "    epoch = 0\n",
    "    number_of_exiting_validators = current_number_of_exiting_validators\n",
    "    number_of_validators = current_number_of_validators\n",
    "\n",
    "    while number_of_exiting_validators >= 0:\n",
    "      exited_validators = get_validator_churn_limit(number_of_validators)\n",
    "      number_of_validators -= exited_validators\n",
    "      number_of_exiting_validators  -= exited_validators\n",
    "      epoch += 1\n",
    "    return epoch\n"
   ]
  },
  {
   "cell_type": "code",
   "execution_count": null,
   "metadata": {},
   "outputs": [],
   "source": [
    "get_time_to_complete_exit(current_number_of_exiting_validators, current_number_of_validators)"
   ]
  }
 ],
 "metadata": {
  "kernelspec": {
   "display_name": "Python 3",
   "language": "python",
   "name": "python3"
  },
  "language_info": {
   "name": "python",
   "version": "3.10.1 (tags/v3.10.1:2cd268a, Dec  6 2021, 19:10:37) [MSC v.1929 64 bit (AMD64)]"
  },
  "orig_nbformat": 4,
  "vscode": {
   "interpreter": {
    "hash": "4c83c76cc38c910c1d37e5c3ff2669b712d5759a2777c583a06061bee1cec3d5"
   }
  }
 },
 "nbformat": 4,
 "nbformat_minor": 2
}
